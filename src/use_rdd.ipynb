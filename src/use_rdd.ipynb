{
 "cells": [
  {
   "cell_type": "code",
   "execution_count": 145,
   "metadata": {
    "collapsed": true,
    "ExecuteTime": {
     "end_time": "2023-07-14T01:20:33.191787Z",
     "start_time": "2023-07-14T01:20:33.180610Z"
    }
   },
   "outputs": [],
   "source": [
    "import rasterio\n",
    "import numpy as np\n",
    "from PIL import Image\n",
    "from pyspark import SparkContext\n",
    "\n",
    "path_to_image = '../samples/2019-02-01.tif'\n",
    "profile = None"
   ]
  },
  {
   "cell_type": "code",
   "execution_count": 84,
   "outputs": [
    {
     "ename": "ValueError",
     "evalue": "Cannot run multiple SparkContexts at once; existing SparkContext(app=Reading image with RDD , master=local[*]) created by __init__ at /var/folders/sp/2my_wkd16kz0bb6sfd_yyryr0000gn/T/ipykernel_4849/2196386975.py:1 ",
     "output_type": "error",
     "traceback": [
      "\u001B[0;31m---------------------------------------------------------------------------\u001B[0m",
      "\u001B[0;31mValueError\u001B[0m                                Traceback (most recent call last)",
      "Cell \u001B[0;32mIn[84], line 1\u001B[0m\n\u001B[0;32m----> 1\u001B[0m spark \u001B[38;5;241m=\u001B[39m \u001B[43mSparkContext\u001B[49m\u001B[43m(\u001B[49m\u001B[43mappName\u001B[49m\u001B[38;5;241;43m=\u001B[39;49m\u001B[38;5;124;43m'\u001B[39;49m\u001B[38;5;124;43mReading image with RDD \u001B[39;49m\u001B[38;5;124;43m'\u001B[39;49m\u001B[43m)\u001B[49m\n",
      "File \u001B[0;32m~/Code/Personal-Lab/greenverse/venv/lib/python3.9/site-packages/pyspark/context.py:198\u001B[0m, in \u001B[0;36mSparkContext.__init__\u001B[0;34m(self, master, appName, sparkHome, pyFiles, environment, batchSize, serializer, conf, gateway, jsc, profiler_cls, udf_profiler_cls, memory_profiler_cls)\u001B[0m\n\u001B[1;32m    192\u001B[0m \u001B[38;5;28;01mif\u001B[39;00m gateway \u001B[38;5;129;01mis\u001B[39;00m \u001B[38;5;129;01mnot\u001B[39;00m \u001B[38;5;28;01mNone\u001B[39;00m \u001B[38;5;129;01mand\u001B[39;00m gateway\u001B[38;5;241m.\u001B[39mgateway_parameters\u001B[38;5;241m.\u001B[39mauth_token \u001B[38;5;129;01mis\u001B[39;00m \u001B[38;5;28;01mNone\u001B[39;00m:\n\u001B[1;32m    193\u001B[0m     \u001B[38;5;28;01mraise\u001B[39;00m \u001B[38;5;167;01mValueError\u001B[39;00m(\n\u001B[1;32m    194\u001B[0m         \u001B[38;5;124m\"\u001B[39m\u001B[38;5;124mYou are trying to pass an insecure Py4j gateway to Spark. This\u001B[39m\u001B[38;5;124m\"\u001B[39m\n\u001B[1;32m    195\u001B[0m         \u001B[38;5;124m\"\u001B[39m\u001B[38;5;124m is not allowed as it is a security risk.\u001B[39m\u001B[38;5;124m\"\u001B[39m\n\u001B[1;32m    196\u001B[0m     )\n\u001B[0;32m--> 198\u001B[0m \u001B[43mSparkContext\u001B[49m\u001B[38;5;241;43m.\u001B[39;49m\u001B[43m_ensure_initialized\u001B[49m\u001B[43m(\u001B[49m\u001B[38;5;28;43mself\u001B[39;49m\u001B[43m,\u001B[49m\u001B[43m \u001B[49m\u001B[43mgateway\u001B[49m\u001B[38;5;241;43m=\u001B[39;49m\u001B[43mgateway\u001B[49m\u001B[43m,\u001B[49m\u001B[43m \u001B[49m\u001B[43mconf\u001B[49m\u001B[38;5;241;43m=\u001B[39;49m\u001B[43mconf\u001B[49m\u001B[43m)\u001B[49m\n\u001B[1;32m    199\u001B[0m \u001B[38;5;28;01mtry\u001B[39;00m:\n\u001B[1;32m    200\u001B[0m     \u001B[38;5;28mself\u001B[39m\u001B[38;5;241m.\u001B[39m_do_init(\n\u001B[1;32m    201\u001B[0m         master,\n\u001B[1;32m    202\u001B[0m         appName,\n\u001B[0;32m   (...)\u001B[0m\n\u001B[1;32m    212\u001B[0m         memory_profiler_cls,\n\u001B[1;32m    213\u001B[0m     )\n",
      "File \u001B[0;32m~/Code/Personal-Lab/greenverse/venv/lib/python3.9/site-packages/pyspark/context.py:445\u001B[0m, in \u001B[0;36mSparkContext._ensure_initialized\u001B[0;34m(cls, instance, gateway, conf)\u001B[0m\n\u001B[1;32m    442\u001B[0m     callsite \u001B[38;5;241m=\u001B[39m SparkContext\u001B[38;5;241m.\u001B[39m_active_spark_context\u001B[38;5;241m.\u001B[39m_callsite\n\u001B[1;32m    444\u001B[0m     \u001B[38;5;66;03m# Raise error if there is already a running Spark context\u001B[39;00m\n\u001B[0;32m--> 445\u001B[0m     \u001B[38;5;28;01mraise\u001B[39;00m \u001B[38;5;167;01mValueError\u001B[39;00m(\n\u001B[1;32m    446\u001B[0m         \u001B[38;5;124m\"\u001B[39m\u001B[38;5;124mCannot run multiple SparkContexts at once; \u001B[39m\u001B[38;5;124m\"\u001B[39m\n\u001B[1;32m    447\u001B[0m         \u001B[38;5;124m\"\u001B[39m\u001B[38;5;124mexisting SparkContext(app=\u001B[39m\u001B[38;5;132;01m%s\u001B[39;00m\u001B[38;5;124m, master=\u001B[39m\u001B[38;5;132;01m%s\u001B[39;00m\u001B[38;5;124m)\u001B[39m\u001B[38;5;124m\"\u001B[39m\n\u001B[1;32m    448\u001B[0m         \u001B[38;5;124m\"\u001B[39m\u001B[38;5;124m created by \u001B[39m\u001B[38;5;132;01m%s\u001B[39;00m\u001B[38;5;124m at \u001B[39m\u001B[38;5;132;01m%s\u001B[39;00m\u001B[38;5;124m:\u001B[39m\u001B[38;5;132;01m%s\u001B[39;00m\u001B[38;5;124m \u001B[39m\u001B[38;5;124m\"\u001B[39m\n\u001B[1;32m    449\u001B[0m         \u001B[38;5;241m%\u001B[39m (\n\u001B[1;32m    450\u001B[0m             currentAppName,\n\u001B[1;32m    451\u001B[0m             currentMaster,\n\u001B[1;32m    452\u001B[0m             callsite\u001B[38;5;241m.\u001B[39mfunction,\n\u001B[1;32m    453\u001B[0m             callsite\u001B[38;5;241m.\u001B[39mfile,\n\u001B[1;32m    454\u001B[0m             callsite\u001B[38;5;241m.\u001B[39mlinenum,\n\u001B[1;32m    455\u001B[0m         )\n\u001B[1;32m    456\u001B[0m     )\n\u001B[1;32m    457\u001B[0m \u001B[38;5;28;01melse\u001B[39;00m:\n\u001B[1;32m    458\u001B[0m     SparkContext\u001B[38;5;241m.\u001B[39m_active_spark_context \u001B[38;5;241m=\u001B[39m instance\n",
      "\u001B[0;31mValueError\u001B[0m: Cannot run multiple SparkContexts at once; existing SparkContext(app=Reading image with RDD , master=local[*]) created by __init__ at /var/folders/sp/2my_wkd16kz0bb6sfd_yyryr0000gn/T/ipykernel_4849/2196386975.py:1 "
     ]
    }
   ],
   "source": [
    "spark = SparkContext(appName='Reading image with RDD ')"
   ],
   "metadata": {
    "collapsed": false,
    "ExecuteTime": {
     "end_time": "2023-07-14T01:08:25.810869Z",
     "start_time": "2023-07-14T01:08:25.724902Z"
    }
   }
  },
  {
   "cell_type": "code",
   "execution_count": 171,
   "outputs": [],
   "source": [
    "def read_image(path):\n",
    "    with rasterio.open(path) as dataset:\n",
    "        global profile\n",
    "        data = dataset.read()\n",
    "        profile = dataset.profile\n",
    "    data = data.transpose((1, 2, 0))\n",
    "    print(data.shape)\n",
    "    return data\n",
    "    # data = np.squeeze(data, axis=1)\n",
    "    # return data"
   ],
   "metadata": {
    "collapsed": false,
    "ExecuteTime": {
     "end_time": "2023-07-14T01:24:11.833936Z",
     "start_time": "2023-07-14T01:24:11.828281Z"
    }
   }
  },
  {
   "cell_type": "code",
   "execution_count": 172,
   "outputs": [],
   "source": [
    "rdd_image = spark.parallelize([path_to_image]).map(read_image)"
   ],
   "metadata": {
    "collapsed": false,
    "ExecuteTime": {
     "end_time": "2023-07-14T01:24:12.702442Z",
     "start_time": "2023-07-14T01:24:12.689139Z"
    }
   }
  },
  {
   "cell_type": "code",
   "execution_count": 175,
   "outputs": [
    {
     "name": "stderr",
     "output_type": "stream",
     "text": [
      "(152, 122, 16)\n"
     ]
    },
    {
     "data": {
      "text/plain": "array([[63976., 64002., 64002., ..., 63884., 63884., 63858.],\n       [63976., 64002., 64002., ..., 63884., 63884., 63858.],\n       [63976., 64002., 64002., ..., 63884., 63884., 63858.],\n       ...,\n       [61616., 61708., 61708., ..., 61485., 61485., 61459.],\n       [61616., 61708., 61708., ..., 61485., 61485., 61459.],\n       [62285., 62462., 62462., ..., 61459., 61459., 61367.]])"
     },
     "execution_count": 175,
     "metadata": {},
     "output_type": "execute_result"
    }
   ],
   "source": [
    "foo = rdd_image.collect()[0]"
   ],
   "metadata": {
    "collapsed": false,
    "ExecuteTime": {
     "end_time": "2023-07-14T01:24:42.470043Z",
     "start_time": "2023-07-14T01:24:42.238525Z"
    }
   }
  },
  {
   "cell_type": "code",
   "execution_count": 232,
   "outputs": [],
   "source": [
    "def calculate_ndvi(image):\n",
    "    red_band = image[:, :, 3].astype(float)\n",
    "    infra_band = image[:, :, 7].astype(float)\n",
    "    return (infra_band - red_band) / (infra_band + red_band)"
   ],
   "metadata": {
    "collapsed": false,
    "ExecuteTime": {
     "end_time": "2023-07-14T01:51:46.636724Z",
     "start_time": "2023-07-14T01:51:46.631348Z"
    }
   }
  },
  {
   "cell_type": "code",
   "execution_count": 233,
   "outputs": [],
   "source": [
    "def inversion_effect(image):\n",
    "    global profile\n",
    "    ndvi = calculate_ndvi(image)\n",
    "    profile['width'] = ndvi.shape[1]\n",
    "    profile['height'] = ndvi.shape[0]\n",
    "    profile['dtype'] = ndvi.dtype\n",
    "    profile['count'] = 1\n",
    "    print(ndvi.shape)\n",
    "    print(profile)\n",
    "    with rasterio.open('../samples/foo.tiff', 'w', **profile) as dst:\n",
    "        dst.write(ndvi, indexes=profile['count'])"
   ],
   "metadata": {
    "collapsed": false,
    "ExecuteTime": {
     "end_time": "2023-07-14T01:51:46.979163Z",
     "start_time": "2023-07-14T01:51:46.970269Z"
    }
   }
  },
  {
   "cell_type": "code",
   "execution_count": 234,
   "outputs": [],
   "source": [
    "rdd_processed = rdd_image.map(inversion_effect)"
   ],
   "metadata": {
    "collapsed": false,
    "ExecuteTime": {
     "end_time": "2023-07-14T01:51:47.728856Z",
     "start_time": "2023-07-14T01:51:47.721755Z"
    }
   }
  },
  {
   "cell_type": "code",
   "execution_count": 235,
   "outputs": [
    {
     "name": "stderr",
     "output_type": "stream",
     "text": [
      "(152, 122, 16)\n",
      "(152, 122)\n",
      "{'driver': 'GTiff', 'dtype': dtype('float64'), 'nodata': None, 'width': 122, 'height': 152, 'count': 1, 'crs': CRS.from_epsg(4326), 'transform': Affine(9.220090163928715e-05, 0.0, -56.20873019,\n",
      "       0.0, -8.994572368421818e-05, -12.21358084), 'blockysize': 8, 'tiled': False, 'compress': 'deflate', 'interleave': 'pixel'}\n"
     ]
    }
   ],
   "source": [
    "result_of_process = rdd_processed.collect()"
   ],
   "metadata": {
    "collapsed": false,
    "ExecuteTime": {
     "end_time": "2023-07-14T01:51:48.795425Z",
     "start_time": "2023-07-14T01:51:48.291861Z"
    }
   }
  },
  {
   "cell_type": "code",
   "execution_count": 21,
   "outputs": [
    {
     "data": {
      "text/plain": "[None]"
     },
     "execution_count": 21,
     "metadata": {},
     "output_type": "execute_result"
    }
   ],
   "source": [
    "result_of_process"
   ],
   "metadata": {
    "collapsed": false,
    "ExecuteTime": {
     "end_time": "2023-07-14T00:44:23.699517Z",
     "start_time": "2023-07-14T00:44:23.695306Z"
    }
   }
  },
  {
   "cell_type": "code",
   "execution_count": null,
   "outputs": [],
   "source": [],
   "metadata": {
    "collapsed": false
   }
  }
 ],
 "metadata": {
  "kernelspec": {
   "display_name": "Python 3",
   "language": "python",
   "name": "python3"
  },
  "language_info": {
   "codemirror_mode": {
    "name": "ipython",
    "version": 2
   },
   "file_extension": ".py",
   "mimetype": "text/x-python",
   "name": "python",
   "nbconvert_exporter": "python",
   "pygments_lexer": "ipython2",
   "version": "2.7.6"
  }
 },
 "nbformat": 4,
 "nbformat_minor": 0
}
