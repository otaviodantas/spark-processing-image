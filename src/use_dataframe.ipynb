{
 "cells": [
  {
   "cell_type": "code",
   "execution_count": 42,
   "outputs": [],
   "source": [
    "import rasterio\n",
    "from pyspark import SparkContext\n",
    "from pyspark.sql import SparkSession\n",
    "from PIL import Image"
   ],
   "metadata": {
    "collapsed": false,
    "ExecuteTime": {
     "end_time": "2023-07-13T23:46:54.560198Z",
     "start_time": "2023-07-13T23:46:54.555137Z"
    }
   }
  },
  {
   "cell_type": "code",
   "execution_count": 30,
   "outputs": [],
   "source": [
    "resource_path = '../samples/2019-01-03.planet.tif'"
   ],
   "metadata": {
    "collapsed": false,
    "ExecuteTime": {
     "end_time": "2023-07-13T23:43:34.064110Z",
     "start_time": "2023-07-13T23:43:34.058666Z"
    }
   }
  },
  {
   "cell_type": "code",
   "execution_count": 31,
   "outputs": [],
   "source": [
    "spark = SparkSession.builder.appName('NDVI Calculation').getOrCreate()\n",
    "# sc = SparkContext(appName=\"NDVI Calculation\")"
   ],
   "metadata": {
    "collapsed": false,
    "ExecuteTime": {
     "end_time": "2023-07-13T23:43:34.569669Z",
     "start_time": "2023-07-13T23:43:34.558509Z"
    }
   }
  },
  {
   "cell_type": "code",
   "execution_count": 38,
   "outputs": [
    {
     "name": "stdout",
     "output_type": "stream",
     "text": [
      "+-------------------------------------------------------------------------------+------+-----+----+---------+\n",
      "|origin                                                                         |height|width|mode|nChannels|\n",
      "+-------------------------------------------------------------------------------+------+-----+----+---------+\n",
      "|file:///Users/otavio/Code/Personal-Lab/greenverse/samples/2019-01-03.planet.tif|152   |122  |16  |3        |\n",
      "+-------------------------------------------------------------------------------+------+-----+----+---------+\n",
      "\n"
     ]
    }
   ],
   "source": [
    "image = spark.read.format('image').load(resource_path)\n",
    "image.select(\"image.origin\", \"image.height\", \"image.width\", \"image.mode\", \"image.nChannels\").show(truncate=False)"
   ],
   "metadata": {
    "collapsed": false,
    "ExecuteTime": {
     "end_time": "2023-07-13T23:45:20.193887Z",
     "start_time": "2023-07-13T23:45:19.984594Z"
    }
   }
  },
  {
   "cell_type": "code",
   "execution_count": 43,
   "outputs": [],
   "source": [
    "spark_single_img = image.select(\"image\").collect()[0]\n",
    "(spark_single_img.image.origin, spark_single_img.image.mode, spark_single_img.image.nChannels )\n",
    "mode = 'RGBA' if (spark_single_img.image.nChannels == 4) else 'RGB'\n",
    "Image.frombytes(mode=mode, data=bytes(spark_single_img.image.data), size=[spark_single_img.image.width,spark_single_img.image.height]).show()"
   ],
   "metadata": {
    "collapsed": false,
    "ExecuteTime": {
     "end_time": "2023-07-13T23:46:57.699515Z",
     "start_time": "2023-07-13T23:46:57.278486Z"
    }
   }
  },
  {
   "cell_type": "code",
   "execution_count": 35,
   "outputs": [
    {
     "data": {
      "text/plain": "DataFrame[image: struct<origin:string,height:int,width:int,nChannels:int,mode:int,data:binary>]"
     },
     "execution_count": 35,
     "metadata": {},
     "output_type": "execute_result"
    }
   ],
   "source": [],
   "metadata": {
    "collapsed": false,
    "ExecuteTime": {
     "end_time": "2023-07-13T23:44:45.172341Z",
     "start_time": "2023-07-13T23:44:45.161371Z"
    }
   }
  },
  {
   "cell_type": "code",
   "execution_count": null,
   "outputs": [],
   "source": [],
   "metadata": {
    "collapsed": false
   }
  }
 ],
 "metadata": {
  "kernelspec": {
   "display_name": "Python 3",
   "language": "python",
   "name": "python3"
  },
  "language_info": {
   "codemirror_mode": {
    "name": "ipython",
    "version": 2
   },
   "file_extension": ".py",
   "mimetype": "text/x-python",
   "name": "python",
   "nbconvert_exporter": "python",
   "pygments_lexer": "ipython2",
   "version": "2.7.6"
  }
 },
 "nbformat": 4,
 "nbformat_minor": 0
}
